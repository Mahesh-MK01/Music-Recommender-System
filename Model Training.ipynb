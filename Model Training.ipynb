{
 "cells": [
  {
   "cell_type": "code",
   "execution_count": 2,
   "id": "f30b399d-95ec-4be3-a890-8f018000cf5c",
   "metadata": {},
   "outputs": [],
   "source": [
    "import pandas as pd\n",
    "import numpy as np"
   ]
  },
  {
   "cell_type": "code",
   "execution_count": 3,
   "id": "ac13871a-7ff1-4e00-a33c-27eb503d3050",
   "metadata": {},
   "outputs": [
    {
     "data": {
      "text/html": [
       "<div>\n",
       "<style scoped>\n",
       "    .dataframe tbody tr th:only-of-type {\n",
       "        vertical-align: middle;\n",
       "    }\n",
       "\n",
       "    .dataframe tbody tr th {\n",
       "        vertical-align: top;\n",
       "    }\n",
       "\n",
       "    .dataframe thead th {\n",
       "        text-align: right;\n",
       "    }\n",
       "</style>\n",
       "<table border=\"1\" class=\"dataframe\">\n",
       "  <thead>\n",
       "    <tr style=\"text-align: right;\">\n",
       "      <th></th>\n",
       "      <th>artist</th>\n",
       "      <th>song</th>\n",
       "      <th>link</th>\n",
       "      <th>text</th>\n",
       "    </tr>\n",
       "  </thead>\n",
       "  <tbody>\n",
       "    <tr>\n",
       "      <th>0</th>\n",
       "      <td>ABBA</td>\n",
       "      <td>Ahe's My Kind Of Girl</td>\n",
       "      <td>/a/abba/ahes+my+kind+of+girl_20598417.html</td>\n",
       "      <td>Look at her face, it's a wonderful face  \\r\\nA...</td>\n",
       "    </tr>\n",
       "    <tr>\n",
       "      <th>1</th>\n",
       "      <td>ABBA</td>\n",
       "      <td>Andante, Andante</td>\n",
       "      <td>/a/abba/andante+andante_20002708.html</td>\n",
       "      <td>Take it easy with me, please  \\r\\nTouch me gen...</td>\n",
       "    </tr>\n",
       "    <tr>\n",
       "      <th>2</th>\n",
       "      <td>ABBA</td>\n",
       "      <td>As Good As New</td>\n",
       "      <td>/a/abba/as+good+as+new_20003033.html</td>\n",
       "      <td>I'll never know why I had to go  \\r\\nWhy I had...</td>\n",
       "    </tr>\n",
       "    <tr>\n",
       "      <th>3</th>\n",
       "      <td>ABBA</td>\n",
       "      <td>Bang</td>\n",
       "      <td>/a/abba/bang_20598415.html</td>\n",
       "      <td>Making somebody happy is a question of give an...</td>\n",
       "    </tr>\n",
       "    <tr>\n",
       "      <th>4</th>\n",
       "      <td>ABBA</td>\n",
       "      <td>Bang-A-Boomerang</td>\n",
       "      <td>/a/abba/bang+a+boomerang_20002668.html</td>\n",
       "      <td>Making somebody happy is a question of give an...</td>\n",
       "    </tr>\n",
       "    <tr>\n",
       "      <th>...</th>\n",
       "      <td>...</td>\n",
       "      <td>...</td>\n",
       "      <td>...</td>\n",
       "      <td>...</td>\n",
       "    </tr>\n",
       "    <tr>\n",
       "      <th>21994</th>\n",
       "      <td>Yes</td>\n",
       "      <td>Circus Of Heaven</td>\n",
       "      <td>/y/yes/circus+of+heaven_20148446.html</td>\n",
       "      <td>The day the Circus of Heaven came to town  \\r\\...</td>\n",
       "    </tr>\n",
       "    <tr>\n",
       "      <th>21995</th>\n",
       "      <td>Yes</td>\n",
       "      <td>Close To The Edge</td>\n",
       "      <td>/y/yes/close+to+the+edge_20148493.html</td>\n",
       "      <td>A seasoned witch could call you from the depth...</td>\n",
       "    </tr>\n",
       "    <tr>\n",
       "      <th>21996</th>\n",
       "      <td>Yes</td>\n",
       "      <td>Dreamtime</td>\n",
       "      <td>/y/yes/dreamtime_20188631.html</td>\n",
       "      <td>Dreamtime begins  \\r\\nWhere every song is the ...</td>\n",
       "    </tr>\n",
       "    <tr>\n",
       "      <th>21997</th>\n",
       "      <td>Yes</td>\n",
       "      <td>Everydays</td>\n",
       "      <td>/y/yes/everydays_20148438.html</td>\n",
       "      <td>Look at the sad goodbyes  \\r\\nEveryday's are k...</td>\n",
       "    </tr>\n",
       "    <tr>\n",
       "      <th>21998</th>\n",
       "      <td>Yes</td>\n",
       "      <td>Face To Face</td>\n",
       "      <td>/y/yes/face+to+face_20148420.html</td>\n",
       "      <td>Here we are trying to mend all the broken hear...</td>\n",
       "    </tr>\n",
       "  </tbody>\n",
       "</table>\n",
       "<p>21999 rows × 4 columns</p>\n",
       "</div>"
      ],
      "text/plain": [
       "      artist                   song  \\\n",
       "0       ABBA  Ahe's My Kind Of Girl   \n",
       "1       ABBA       Andante, Andante   \n",
       "2       ABBA         As Good As New   \n",
       "3       ABBA                   Bang   \n",
       "4       ABBA       Bang-A-Boomerang   \n",
       "...      ...                    ...   \n",
       "21994    Yes       Circus Of Heaven   \n",
       "21995    Yes      Close To The Edge   \n",
       "21996    Yes              Dreamtime   \n",
       "21997    Yes              Everydays   \n",
       "21998    Yes           Face To Face   \n",
       "\n",
       "                                             link  \\\n",
       "0      /a/abba/ahes+my+kind+of+girl_20598417.html   \n",
       "1           /a/abba/andante+andante_20002708.html   \n",
       "2            /a/abba/as+good+as+new_20003033.html   \n",
       "3                      /a/abba/bang_20598415.html   \n",
       "4          /a/abba/bang+a+boomerang_20002668.html   \n",
       "...                                           ...   \n",
       "21994       /y/yes/circus+of+heaven_20148446.html   \n",
       "21995      /y/yes/close+to+the+edge_20148493.html   \n",
       "21996              /y/yes/dreamtime_20188631.html   \n",
       "21997              /y/yes/everydays_20148438.html   \n",
       "21998           /y/yes/face+to+face_20148420.html   \n",
       "\n",
       "                                                    text  \n",
       "0      Look at her face, it's a wonderful face  \\r\\nA...  \n",
       "1      Take it easy with me, please  \\r\\nTouch me gen...  \n",
       "2      I'll never know why I had to go  \\r\\nWhy I had...  \n",
       "3      Making somebody happy is a question of give an...  \n",
       "4      Making somebody happy is a question of give an...  \n",
       "...                                                  ...  \n",
       "21994  The day the Circus of Heaven came to town  \\r\\...  \n",
       "21995  A seasoned witch could call you from the depth...  \n",
       "21996  Dreamtime begins  \\r\\nWhere every song is the ...  \n",
       "21997  Look at the sad goodbyes  \\r\\nEveryday's are k...  \n",
       "21998  Here we are trying to mend all the broken hear...  \n",
       "\n",
       "[21999 rows x 4 columns]"
      ]
     },
     "execution_count": 3,
     "metadata": {},
     "output_type": "execute_result"
    }
   ],
   "source": [
    "df= pd.read_csv('spotify_millsongdata.csv')\n",
    "df"
   ]
  },
  {
   "cell_type": "code",
   "execution_count": 4,
   "id": "d1d48e7e-1654-4578-903c-30045cff734b",
   "metadata": {},
   "outputs": [
    {
     "data": {
      "text/plain": [
       "(21999, 4)"
      ]
     },
     "execution_count": 4,
     "metadata": {},
     "output_type": "execute_result"
    }
   ],
   "source": [
    "df.shape"
   ]
  },
  {
   "cell_type": "code",
   "execution_count": 5,
   "id": "7202ddc1-0ccf-41df-af64-95e07bdd8d11",
   "metadata": {},
   "outputs": [
    {
     "data": {
      "text/html": [
       "<div>\n",
       "<style scoped>\n",
       "    .dataframe tbody tr th:only-of-type {\n",
       "        vertical-align: middle;\n",
       "    }\n",
       "\n",
       "    .dataframe tbody tr th {\n",
       "        vertical-align: top;\n",
       "    }\n",
       "\n",
       "    .dataframe thead th {\n",
       "        text-align: right;\n",
       "    }\n",
       "</style>\n",
       "<table border=\"1\" class=\"dataframe\">\n",
       "  <thead>\n",
       "    <tr style=\"text-align: right;\">\n",
       "      <th></th>\n",
       "      <th>artist</th>\n",
       "      <th>song</th>\n",
       "      <th>link</th>\n",
       "      <th>text</th>\n",
       "    </tr>\n",
       "  </thead>\n",
       "  <tbody>\n",
       "    <tr>\n",
       "      <th>0</th>\n",
       "      <td>ABBA</td>\n",
       "      <td>Ahe's My Kind Of Girl</td>\n",
       "      <td>/a/abba/ahes+my+kind+of+girl_20598417.html</td>\n",
       "      <td>Look at her face, it's a wonderful face  \\r\\nA...</td>\n",
       "    </tr>\n",
       "    <tr>\n",
       "      <th>1</th>\n",
       "      <td>ABBA</td>\n",
       "      <td>Andante, Andante</td>\n",
       "      <td>/a/abba/andante+andante_20002708.html</td>\n",
       "      <td>Take it easy with me, please  \\r\\nTouch me gen...</td>\n",
       "    </tr>\n",
       "    <tr>\n",
       "      <th>2</th>\n",
       "      <td>ABBA</td>\n",
       "      <td>As Good As New</td>\n",
       "      <td>/a/abba/as+good+as+new_20003033.html</td>\n",
       "      <td>I'll never know why I had to go  \\r\\nWhy I had...</td>\n",
       "    </tr>\n",
       "    <tr>\n",
       "      <th>3</th>\n",
       "      <td>ABBA</td>\n",
       "      <td>Bang</td>\n",
       "      <td>/a/abba/bang_20598415.html</td>\n",
       "      <td>Making somebody happy is a question of give an...</td>\n",
       "    </tr>\n",
       "    <tr>\n",
       "      <th>4</th>\n",
       "      <td>ABBA</td>\n",
       "      <td>Bang-A-Boomerang</td>\n",
       "      <td>/a/abba/bang+a+boomerang_20002668.html</td>\n",
       "      <td>Making somebody happy is a question of give an...</td>\n",
       "    </tr>\n",
       "  </tbody>\n",
       "</table>\n",
       "</div>"
      ],
      "text/plain": [
       "  artist                   song                                        link  \\\n",
       "0   ABBA  Ahe's My Kind Of Girl  /a/abba/ahes+my+kind+of+girl_20598417.html   \n",
       "1   ABBA       Andante, Andante       /a/abba/andante+andante_20002708.html   \n",
       "2   ABBA         As Good As New        /a/abba/as+good+as+new_20003033.html   \n",
       "3   ABBA                   Bang                  /a/abba/bang_20598415.html   \n",
       "4   ABBA       Bang-A-Boomerang      /a/abba/bang+a+boomerang_20002668.html   \n",
       "\n",
       "                                                text  \n",
       "0  Look at her face, it's a wonderful face  \\r\\nA...  \n",
       "1  Take it easy with me, please  \\r\\nTouch me gen...  \n",
       "2  I'll never know why I had to go  \\r\\nWhy I had...  \n",
       "3  Making somebody happy is a question of give an...  \n",
       "4  Making somebody happy is a question of give an...  "
      ]
     },
     "execution_count": 5,
     "metadata": {},
     "output_type": "execute_result"
    }
   ],
   "source": [
    "df.head()"
   ]
  },
  {
   "cell_type": "code",
   "execution_count": 6,
   "id": "33674c6d-10a0-4208-a085-0100f8e6d681",
   "metadata": {},
   "outputs": [
    {
     "data": {
      "text/html": [
       "<div>\n",
       "<style scoped>\n",
       "    .dataframe tbody tr th:only-of-type {\n",
       "        vertical-align: middle;\n",
       "    }\n",
       "\n",
       "    .dataframe tbody tr th {\n",
       "        vertical-align: top;\n",
       "    }\n",
       "\n",
       "    .dataframe thead th {\n",
       "        text-align: right;\n",
       "    }\n",
       "</style>\n",
       "<table border=\"1\" class=\"dataframe\">\n",
       "  <thead>\n",
       "    <tr style=\"text-align: right;\">\n",
       "      <th></th>\n",
       "      <th>artist</th>\n",
       "      <th>song</th>\n",
       "      <th>link</th>\n",
       "      <th>text</th>\n",
       "    </tr>\n",
       "  </thead>\n",
       "  <tbody>\n",
       "    <tr>\n",
       "      <th>21994</th>\n",
       "      <td>Yes</td>\n",
       "      <td>Circus Of Heaven</td>\n",
       "      <td>/y/yes/circus+of+heaven_20148446.html</td>\n",
       "      <td>The day the Circus of Heaven came to town  \\r\\...</td>\n",
       "    </tr>\n",
       "    <tr>\n",
       "      <th>21995</th>\n",
       "      <td>Yes</td>\n",
       "      <td>Close To The Edge</td>\n",
       "      <td>/y/yes/close+to+the+edge_20148493.html</td>\n",
       "      <td>A seasoned witch could call you from the depth...</td>\n",
       "    </tr>\n",
       "    <tr>\n",
       "      <th>21996</th>\n",
       "      <td>Yes</td>\n",
       "      <td>Dreamtime</td>\n",
       "      <td>/y/yes/dreamtime_20188631.html</td>\n",
       "      <td>Dreamtime begins  \\r\\nWhere every song is the ...</td>\n",
       "    </tr>\n",
       "    <tr>\n",
       "      <th>21997</th>\n",
       "      <td>Yes</td>\n",
       "      <td>Everydays</td>\n",
       "      <td>/y/yes/everydays_20148438.html</td>\n",
       "      <td>Look at the sad goodbyes  \\r\\nEveryday's are k...</td>\n",
       "    </tr>\n",
       "    <tr>\n",
       "      <th>21998</th>\n",
       "      <td>Yes</td>\n",
       "      <td>Face To Face</td>\n",
       "      <td>/y/yes/face+to+face_20148420.html</td>\n",
       "      <td>Here we are trying to mend all the broken hear...</td>\n",
       "    </tr>\n",
       "  </tbody>\n",
       "</table>\n",
       "</div>"
      ],
      "text/plain": [
       "      artist               song                                    link  \\\n",
       "21994    Yes   Circus Of Heaven   /y/yes/circus+of+heaven_20148446.html   \n",
       "21995    Yes  Close To The Edge  /y/yes/close+to+the+edge_20148493.html   \n",
       "21996    Yes          Dreamtime          /y/yes/dreamtime_20188631.html   \n",
       "21997    Yes          Everydays          /y/yes/everydays_20148438.html   \n",
       "21998    Yes       Face To Face       /y/yes/face+to+face_20148420.html   \n",
       "\n",
       "                                                    text  \n",
       "21994  The day the Circus of Heaven came to town  \\r\\...  \n",
       "21995  A seasoned witch could call you from the depth...  \n",
       "21996  Dreamtime begins  \\r\\nWhere every song is the ...  \n",
       "21997  Look at the sad goodbyes  \\r\\nEveryday's are k...  \n",
       "21998  Here we are trying to mend all the broken hear...  "
      ]
     },
     "execution_count": 6,
     "metadata": {},
     "output_type": "execute_result"
    }
   ],
   "source": [
    "df.tail()"
   ]
  },
  {
   "cell_type": "code",
   "execution_count": 7,
   "id": "bef1aef0-4ce7-4c91-8a1f-e82f05d43a58",
   "metadata": {},
   "outputs": [
    {
     "data": {
      "text/plain": [
       "artist    0\n",
       "song      0\n",
       "link      0\n",
       "text      0\n",
       "dtype: int64"
      ]
     },
     "execution_count": 7,
     "metadata": {},
     "output_type": "execute_result"
    }
   ],
   "source": [
    "df.isnull().sum()"
   ]
  },
  {
   "cell_type": "code",
   "execution_count": 8,
   "id": "e0a68d9e-d47f-4f9e-a004-59aa7c0caa70",
   "metadata": {},
   "outputs": [],
   "source": [
    "df.drop(['link'],axis=1,inplace=True)"
   ]
  },
  {
   "cell_type": "code",
   "execution_count": 9,
   "id": "4b8c74a8-329a-4a46-99e8-2e5bc9eadf0c",
   "metadata": {},
   "outputs": [
    {
     "data": {
      "text/plain": [
       "(21999, 3)"
      ]
     },
     "execution_count": 9,
     "metadata": {},
     "output_type": "execute_result"
    }
   ],
   "source": [
    "df.shape"
   ]
  },
  {
   "cell_type": "code",
   "execution_count": 10,
   "id": "7be96c65-8b41-4c82-86e4-acf568ae1034",
   "metadata": {},
   "outputs": [
    {
     "data": {
      "text/html": [
       "<div>\n",
       "<style scoped>\n",
       "    .dataframe tbody tr th:only-of-type {\n",
       "        vertical-align: middle;\n",
       "    }\n",
       "\n",
       "    .dataframe tbody tr th {\n",
       "        vertical-align: top;\n",
       "    }\n",
       "\n",
       "    .dataframe thead th {\n",
       "        text-align: right;\n",
       "    }\n",
       "</style>\n",
       "<table border=\"1\" class=\"dataframe\">\n",
       "  <thead>\n",
       "    <tr style=\"text-align: right;\">\n",
       "      <th></th>\n",
       "      <th>artist</th>\n",
       "      <th>song</th>\n",
       "      <th>text</th>\n",
       "    </tr>\n",
       "  </thead>\n",
       "  <tbody>\n",
       "    <tr>\n",
       "      <th>0</th>\n",
       "      <td>ABBA</td>\n",
       "      <td>Ahe's My Kind Of Girl</td>\n",
       "      <td>Look at her face, it's a wonderful face  \\r\\nA...</td>\n",
       "    </tr>\n",
       "    <tr>\n",
       "      <th>1</th>\n",
       "      <td>ABBA</td>\n",
       "      <td>Andante, Andante</td>\n",
       "      <td>Take it easy with me, please  \\r\\nTouch me gen...</td>\n",
       "    </tr>\n",
       "    <tr>\n",
       "      <th>2</th>\n",
       "      <td>ABBA</td>\n",
       "      <td>As Good As New</td>\n",
       "      <td>I'll never know why I had to go  \\r\\nWhy I had...</td>\n",
       "    </tr>\n",
       "    <tr>\n",
       "      <th>3</th>\n",
       "      <td>ABBA</td>\n",
       "      <td>Bang</td>\n",
       "      <td>Making somebody happy is a question of give an...</td>\n",
       "    </tr>\n",
       "    <tr>\n",
       "      <th>4</th>\n",
       "      <td>ABBA</td>\n",
       "      <td>Bang-A-Boomerang</td>\n",
       "      <td>Making somebody happy is a question of give an...</td>\n",
       "    </tr>\n",
       "  </tbody>\n",
       "</table>\n",
       "</div>"
      ],
      "text/plain": [
       "  artist                   song  \\\n",
       "0   ABBA  Ahe's My Kind Of Girl   \n",
       "1   ABBA       Andante, Andante   \n",
       "2   ABBA         As Good As New   \n",
       "3   ABBA                   Bang   \n",
       "4   ABBA       Bang-A-Boomerang   \n",
       "\n",
       "                                                text  \n",
       "0  Look at her face, it's a wonderful face  \\r\\nA...  \n",
       "1  Take it easy with me, please  \\r\\nTouch me gen...  \n",
       "2  I'll never know why I had to go  \\r\\nWhy I had...  \n",
       "3  Making somebody happy is a question of give an...  \n",
       "4  Making somebody happy is a question of give an...  "
      ]
     },
     "execution_count": 10,
     "metadata": {},
     "output_type": "execute_result"
    }
   ],
   "source": [
    "df.head()"
   ]
  },
  {
   "cell_type": "code",
   "execution_count": 11,
   "id": "b36996fb-54fb-44ea-b50e-3de4a304210f",
   "metadata": {},
   "outputs": [
    {
     "data": {
      "text/html": [
       "<div>\n",
       "<style scoped>\n",
       "    .dataframe tbody tr th:only-of-type {\n",
       "        vertical-align: middle;\n",
       "    }\n",
       "\n",
       "    .dataframe tbody tr th {\n",
       "        vertical-align: top;\n",
       "    }\n",
       "\n",
       "    .dataframe thead th {\n",
       "        text-align: right;\n",
       "    }\n",
       "</style>\n",
       "<table border=\"1\" class=\"dataframe\">\n",
       "  <thead>\n",
       "    <tr style=\"text-align: right;\">\n",
       "      <th></th>\n",
       "      <th>artist</th>\n",
       "      <th>song</th>\n",
       "      <th>text</th>\n",
       "    </tr>\n",
       "  </thead>\n",
       "  <tbody>\n",
       "    <tr>\n",
       "      <th>0</th>\n",
       "      <td>ABBA</td>\n",
       "      <td>Ahe's My Kind Of Girl</td>\n",
       "      <td>Look at her face, it's a wonderful face  \\r\\nA...</td>\n",
       "    </tr>\n",
       "    <tr>\n",
       "      <th>1</th>\n",
       "      <td>ABBA</td>\n",
       "      <td>Andante, Andante</td>\n",
       "      <td>Take it easy with me, please  \\r\\nTouch me gen...</td>\n",
       "    </tr>\n",
       "    <tr>\n",
       "      <th>2</th>\n",
       "      <td>ABBA</td>\n",
       "      <td>As Good As New</td>\n",
       "      <td>I'll never know why I had to go  \\r\\nWhy I had...</td>\n",
       "    </tr>\n",
       "    <tr>\n",
       "      <th>3</th>\n",
       "      <td>ABBA</td>\n",
       "      <td>Bang</td>\n",
       "      <td>Making somebody happy is a question of give an...</td>\n",
       "    </tr>\n",
       "    <tr>\n",
       "      <th>4</th>\n",
       "      <td>ABBA</td>\n",
       "      <td>Bang-A-Boomerang</td>\n",
       "      <td>Making somebody happy is a question of give an...</td>\n",
       "    </tr>\n",
       "    <tr>\n",
       "      <th>5</th>\n",
       "      <td>ABBA</td>\n",
       "      <td>Burning My Bridges</td>\n",
       "      <td>Well, you hoot and you holler and you make me ...</td>\n",
       "    </tr>\n",
       "    <tr>\n",
       "      <th>6</th>\n",
       "      <td>ABBA</td>\n",
       "      <td>Cassandra</td>\n",
       "      <td>Down in the street they're all singing and sho...</td>\n",
       "    </tr>\n",
       "    <tr>\n",
       "      <th>7</th>\n",
       "      <td>ABBA</td>\n",
       "      <td>Chiquitita</td>\n",
       "      <td>Chiquitita, tell me what's wrong  \\r\\nYou're e...</td>\n",
       "    </tr>\n",
       "  </tbody>\n",
       "</table>\n",
       "</div>"
      ],
      "text/plain": [
       "  artist                   song  \\\n",
       "0   ABBA  Ahe's My Kind Of Girl   \n",
       "1   ABBA       Andante, Andante   \n",
       "2   ABBA         As Good As New   \n",
       "3   ABBA                   Bang   \n",
       "4   ABBA       Bang-A-Boomerang   \n",
       "5   ABBA     Burning My Bridges   \n",
       "6   ABBA              Cassandra   \n",
       "7   ABBA             Chiquitita   \n",
       "\n",
       "                                                text  \n",
       "0  Look at her face, it's a wonderful face  \\r\\nA...  \n",
       "1  Take it easy with me, please  \\r\\nTouch me gen...  \n",
       "2  I'll never know why I had to go  \\r\\nWhy I had...  \n",
       "3  Making somebody happy is a question of give an...  \n",
       "4  Making somebody happy is a question of give an...  \n",
       "5  Well, you hoot and you holler and you make me ...  \n",
       "6  Down in the street they're all singing and sho...  \n",
       "7  Chiquitita, tell me what's wrong  \\r\\nYou're e...  "
      ]
     },
     "execution_count": 11,
     "metadata": {},
     "output_type": "execute_result"
    }
   ],
   "source": [
    "df.head(8)"
   ]
  },
  {
   "cell_type": "markdown",
   "id": "3a66016e-0c79-478a-beec-dbd54d8e55d9",
   "metadata": {},
   "source": [
    "# Text Cleaning / Text Processing"
   ]
  },
  {
   "cell_type": "code",
   "execution_count": 12,
   "id": "d404dab8-03d2-4c64-9dcd-72cc2c7755ef",
   "metadata": {},
   "outputs": [],
   "source": [
    "df['text']= df['text'].str.lower().replace(r'^\\w\\s',' ').replace(r'\\n', ' ',regex=True)"
   ]
  },
  {
   "cell_type": "code",
   "execution_count": 13,
   "id": "10563c63-11a4-40a2-a160-d9e2025d5d57",
   "metadata": {},
   "outputs": [],
   "source": [
    "import nltk\n",
    "from nltk.stem.porter import PorterStemmer"
   ]
  },
  {
   "cell_type": "code",
   "execution_count": 14,
   "id": "6a232a28-2a15-4799-a38c-19aef2e5e09d",
   "metadata": {},
   "outputs": [],
   "source": [
    "from nltk.tokenize import word_tokenize"
   ]
  },
  {
   "cell_type": "code",
   "execution_count": 15,
   "id": "0194acf4-eb7d-45a5-928e-b26c7fe18b07",
   "metadata": {},
   "outputs": [],
   "source": [
    "stemmer = PorterStemmer()"
   ]
  },
  {
   "cell_type": "code",
   "execution_count": 16,
   "id": "92b15e76-a2bd-454b-9375-1485f18ce0ea",
   "metadata": {},
   "outputs": [],
   "source": [
    "def token (txt):\n",
    "    token=nltk.word_tokenize(txt)\n",
    "    a = [stemmer.stem(w) for w in token]\n",
    "    return \" \".join(a)"
   ]
  },
  {
   "cell_type": "code",
   "execution_count": 17,
   "id": "377bc3d5-961c-46cd-b996-800df02a4283",
   "metadata": {},
   "outputs": [
    {
     "data": {
      "text/plain": [
       "0        look at her face , it 's a wonder face and it ...\n",
       "1        take it easi with me , pleas touch me gentli l...\n",
       "2        i 'll never know whi i had to go whi i had to ...\n",
       "3        make somebodi happi is a question of give and ...\n",
       "4        make somebodi happi is a question of give and ...\n",
       "                               ...                        \n",
       "21994    the day the circu of heaven came to town local...\n",
       "21995    a season witch could call you from the depth o...\n",
       "21996    dreamtim begin where everi song is the perfect...\n",
       "21997    look at the sad goodby everyday 's are kill ti...\n",
       "21998    here we are tri to mend all the broken heart i...\n",
       "Name: text, Length: 21999, dtype: object"
      ]
     },
     "execution_count": 17,
     "metadata": {},
     "output_type": "execute_result"
    }
   ],
   "source": [
    "df['text'].apply(lambda x: token(x))"
   ]
  },
  {
   "cell_type": "code",
   "execution_count": 18,
   "id": "2bac24a4-9317-4704-a779-5e1bac3464c8",
   "metadata": {},
   "outputs": [],
   "source": [
    "from sklearn.feature_extraction.text import TfidfVectorizer\n",
    "from sklearn.metrics.pairwise import cosine_similarity"
   ]
  },
  {
   "cell_type": "code",
   "execution_count": 19,
   "id": "2ce32ee5-426f-434b-8fa1-d5667194dbf4",
   "metadata": {},
   "outputs": [],
   "source": [
    "tfid = TfidfVectorizer(analyzer= 'word', stop_words= 'english')"
   ]
  },
  {
   "cell_type": "code",
   "execution_count": 20,
   "id": "6f3157c4-bf07-4a6f-8fda-e3c19073901f",
   "metadata": {},
   "outputs": [
    {
     "data": {
      "text/plain": [
       "<21999x50409 sparse matrix of type '<class 'numpy.float64'>'\n",
       "\twith 1170618 stored elements in Compressed Sparse Row format>"
      ]
     },
     "execution_count": 20,
     "metadata": {},
     "output_type": "execute_result"
    }
   ],
   "source": [
    "matrix=tfid.fit_transform(df['text'])\n",
    "matrix"
   ]
  },
  {
   "cell_type": "code",
   "execution_count": 21,
   "id": "1447baa3-350d-462d-a7fb-dd58c3c7e1a7",
   "metadata": {},
   "outputs": [],
   "source": [
    "similar = cosine_similarity(matrix)"
   ]
  },
  {
   "cell_type": "code",
   "execution_count": 22,
   "id": "396d7cac-32dc-4357-aeeb-18f988993182",
   "metadata": {},
   "outputs": [
    {
     "data": {
      "text/plain": [
       "array([1.00000000e+00, 1.50929060e-03, 9.96809551e-03, ...,\n",
       "       8.59262095e-04, 5.38501071e-02, 5.03005192e-02])"
      ]
     },
     "execution_count": 22,
     "metadata": {},
     "output_type": "execute_result"
    }
   ],
   "source": [
    "similar[0]"
   ]
  },
  {
   "cell_type": "code",
   "execution_count": 23,
   "id": "6e7a2578-3626-43c5-8643-d145ebf916c9",
   "metadata": {},
   "outputs": [
    {
     "data": {
      "text/plain": [
       "3"
      ]
     },
     "execution_count": 23,
     "metadata": {},
     "output_type": "execute_result"
    }
   ],
   "source": [
    "df[df['song']=='Bang'].index[0]"
   ]
  },
  {
   "cell_type": "code",
   "execution_count": 24,
   "id": "02a9b940-6715-4610-b17f-6dcde55a7590",
   "metadata": {},
   "outputs": [],
   "source": [
    "def recommender (song_name):\n",
    "    idx=df[df['song']==song_name].index[0]\n",
    "    distance = sorted(list(enumerate(similar[idx])),reverse= True , key =lambda x:x[1])\n",
    "    song= []\n",
    "    for s_id in distance[1:21]:\n",
    "        song.append(df.iloc[s_id[0]].song)\n",
    "    return song    \n",
    "        "
   ]
  },
  {
   "cell_type": "code",
   "execution_count": 25,
   "id": "77632b75-bd32-4b65-8ef5-d9cab0f3e394",
   "metadata": {},
   "outputs": [
    {
     "data": {
      "text/plain": [
       "['Ma Baker',\n",
       " 'Auntie -',\n",
       " \"Ma' Dear Ma' Dear\",\n",
       " 'Ma',\n",
       " 'Mama Weer All Crazee Now',\n",
       " 'She Never Told Me She Was A Mime',\n",
       " 'Get The Funk Out Of My Face',\n",
       " 'My Time',\n",
       " \"Look What They've Done To My Song\",\n",
       " 'Numa Numa (English Version)',\n",
       " \"What'd I Say\",\n",
       " \"Midsummer Nights Dreamin'\",\n",
       " 'Creda-Ma',\n",
       " \"She's My Baby\",\n",
       " 'Recovery',\n",
       " 'Hood Mentality',\n",
       " 'Juice',\n",
       " 'Another Midnight',\n",
       " 'Strictly Business',\n",
       " 'I Love You Baby']"
      ]
     },
     "execution_count": 25,
     "metadata": {},
     "output_type": "execute_result"
    }
   ],
   "source": [
    " recommender(\"As Good As New\")"
   ]
  },
  {
   "cell_type": "code",
   "execution_count": null,
   "id": "59bd574c-3464-4a5f-bd56-de1d9022ad1b",
   "metadata": {},
   "outputs": [
    {
     "data": {
      "text/plain": [
       "[\"I Can't Take My Eyes Off You\",\n",
       " 'Under My Umbrella',\n",
       " 'Eyes Of Innocence',\n",
       " 'The Eyes Of Love',\n",
       " 'Mirror, Mirror (Look Into My Eyes)',\n",
       " 'Blue Eyes',\n",
       " 'Through My Eyes',\n",
       " 'Look Through My Eyes',\n",
       " 'These Eyes',\n",
       " 'In The Heat Of The Night',\n",
       " 'I Can See It In Your Eyes',\n",
       " 'A Thousand Lies',\n",
       " 'Moonlight Eyes',\n",
       " 'Damn Your Eyes',\n",
       " \"I'm Looking For Blue Eyes\",\n",
       " 'Close Your Eyes',\n",
       " 'Eyes Of The World',\n",
       " 'Angel Eyes',\n",
       " 'Blue Eyes',\n",
       " 'When I Close My Eyes']"
      ]
     },
     "execution_count": 26,
     "metadata": {},
     "output_type": "execute_result"
    }
   ],
   "source": [
    "recommender(\"In Your Eyes\")"
   ]
  },
  {
   "cell_type": "code",
   "execution_count": 27,
   "id": "b39aac78-cdc0-4c24-92c2-030d65972ff1",
   "metadata": {},
   "outputs": [],
   "source": [
    "import pickle"
   ]
  },
  {
   "cell_type": "code",
   "execution_count": null,
   "id": "7e97d54f-6709-4671-a621-80c4e3287aa6",
   "metadata": {},
   "outputs": [],
   "source": [
    "pickle.dump(similar,open('similarity','wb'))"
   ]
  },
  {
   "cell_type": "code",
   "execution_count": null,
   "id": "500e130e-8691-4314-baef-e64de0b9492d",
   "metadata": {},
   "outputs": [],
   "source": [
    "pickle.dump(df,open('df','wb'))"
   ]
  },
  {
   "cell_type": "code",
   "execution_count": null,
   "id": "5bef1f8b",
   "metadata": {},
   "outputs": [],
   "source": []
  }
 ],
 "metadata": {
  "kernelspec": {
   "display_name": "Python 3",
   "language": "python",
   "name": "python3"
  },
  "language_info": {
   "codemirror_mode": {
    "name": "ipython",
    "version": 3
   },
   "file_extension": ".py",
   "mimetype": "text/x-python",
   "name": "python",
   "nbconvert_exporter": "python",
   "pygments_lexer": "ipython3",
   "version": "3.13.3"
  }
 },
 "nbformat": 4,
 "nbformat_minor": 5
}
